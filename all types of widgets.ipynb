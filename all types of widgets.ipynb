{
 "cells": [
  {
   "cell_type": "code",
   "execution_count": 3,
   "metadata": {},
   "outputs": [],
   "source": [
    "import ipywidgets as widgets"
   ]
  },
  {
   "cell_type": "code",
   "execution_count": 4,
   "metadata": {},
   "outputs": [
    {
     "data": {
      "application/vnd.jupyter.widget-view+json": {
       "model_id": "35201426eaf04b7091f0ea3a517c0006",
       "version_major": 2,
       "version_minor": 0
      },
      "text/plain": [
       "IntSlider(value=0)"
      ]
     },
     "execution_count": 4,
     "metadata": {},
     "output_type": "execute_result"
    }
   ],
   "source": [
    "widgets.IntSlider() # make sure () is there"
   ]
  },
  {
   "cell_type": "code",
   "execution_count": 5,
   "metadata": {},
   "outputs": [],
   "source": [
    "# we can assign it to a \n",
    "w = widgets.IntSlider() # make sure () is there"
   ]
  },
  {
   "cell_type": "code",
   "execution_count": 6,
   "metadata": {},
   "outputs": [],
   "source": [
    "# now lets display that slider \n",
    "from IPython.display import display"
   ]
  },
  {
   "cell_type": "code",
   "execution_count": 50,
   "metadata": {},
   "outputs": [
    {
     "data": {
      "application/vnd.jupyter.widget-view+json": {
       "model_id": "c429d2e67eb5401db9560958ad741ab3",
       "version_major": 2,
       "version_minor": 0
      },
      "text/plain": [
       "IntSlider(value=50, max=105)"
      ]
     },
     "metadata": {},
     "output_type": "display_data"
    }
   ],
   "source": [
    "display(w)"
   ]
  },
  {
   "cell_type": "code",
   "execution_count": 8,
   "metadata": {},
   "outputs": [],
   "source": [
    "# to close the widget \n",
    "w.close()"
   ]
  },
  {
   "cell_type": "code",
   "execution_count": 51,
   "metadata": {},
   "outputs": [
    {
     "data": {
      "application/vnd.jupyter.widget-view+json": {
       "model_id": "c429d2e67eb5401db9560958ad741ab3",
       "version_major": 2,
       "version_minor": 0
      },
      "text/plain": [
       "IntSlider(value=50, max=105)"
      ]
     },
     "metadata": {},
     "output_type": "display_data"
    }
   ],
   "source": [
    "display(w) # this display previously set values"
   ]
  },
  {
   "cell_type": "code",
   "execution_count": 10,
   "metadata": {},
   "outputs": [
    {
     "data": {
      "application/vnd.jupyter.widget-view+json": {
       "model_id": "c429d2e67eb5401db9560958ad741ab3",
       "version_major": 2,
       "version_minor": 0
      },
      "text/plain": [
       "IntSlider(value=0)"
      ]
     },
     "metadata": {},
     "output_type": "display_data"
    }
   ],
   "source": [
    "# re assigning it \n",
    "w = widgets.IntSlider()\n",
    "display(w)"
   ]
  },
  {
   "cell_type": "code",
   "execution_count": 11,
   "metadata": {},
   "outputs": [
    {
     "data": {
      "text/plain": [
       "0"
      ]
     },
     "execution_count": 11,
     "metadata": {},
     "output_type": "execute_result"
    }
   ],
   "source": [
    "w.value # we can know the current value"
   ]
  },
  {
   "cell_type": "code",
   "execution_count": 12,
   "metadata": {},
   "outputs": [],
   "source": [
    "# we can make the value fix as well \n",
    "w.value = 50 "
   ]
  },
  {
   "cell_type": "code",
   "execution_count": 13,
   "metadata": {},
   "outputs": [
    {
     "data": {
      "application/vnd.jupyter.widget-view+json": {
       "model_id": "c429d2e67eb5401db9560958ad741ab3",
       "version_major": 2,
       "version_minor": 0
      },
      "text/plain": [
       "IntSlider(value=50)"
      ]
     },
     "metadata": {},
     "output_type": "display_data"
    }
   ],
   "source": [
    "display(w) # you can see that is fixed and we can move if we want"
   ]
  },
  {
   "cell_type": "code",
   "execution_count": 14,
   "metadata": {},
   "outputs": [],
   "source": [
    "# we can also set the max value \n",
    "w.max = 105"
   ]
  },
  {
   "cell_type": "code",
   "execution_count": 15,
   "metadata": {},
   "outputs": [
    {
     "data": {
      "application/vnd.jupyter.widget-view+json": {
       "model_id": "c429d2e67eb5401db9560958ad741ab3",
       "version_major": 2,
       "version_minor": 0
      },
      "text/plain": [
       "IntSlider(value=50, max=105)"
      ]
     },
     "metadata": {},
     "output_type": "display_data"
    }
   ],
   "source": [
    "display(w)"
   ]
  },
  {
   "cell_type": "code",
   "execution_count": 16,
   "metadata": {},
   "outputs": [],
   "source": [
    "# we can also take float text \n",
    "a = widgets.FloatText()"
   ]
  },
  {
   "cell_type": "code",
   "execution_count": 17,
   "metadata": {},
   "outputs": [
    {
     "data": {
      "application/vnd.jupyter.widget-view+json": {
       "model_id": "aed70ff8c3434f958e027f6a7acf7edc",
       "version_major": 2,
       "version_minor": 0
      },
      "text/plain": [
       "FloatText(value=0.0)"
      ]
     },
     "metadata": {},
     "output_type": "display_data"
    }
   ],
   "source": [
    "display(a) # this take in the float values"
   ]
  },
  {
   "cell_type": "code",
   "execution_count": 18,
   "metadata": {},
   "outputs": [],
   "source": [
    "# we can also have float slider  \n",
    "# we can also take float text \n",
    "b = widgets.FloatSlider()"
   ]
  },
  {
   "cell_type": "code",
   "execution_count": 19,
   "metadata": {},
   "outputs": [
    {
     "data": {
      "application/vnd.jupyter.widget-view+json": {
       "model_id": "593e43d1075c4defb5b03b69d925eded",
       "version_major": 2,
       "version_minor": 0
      },
      "text/plain": [
       "FloatSlider(value=0.0)"
      ]
     },
     "metadata": {},
     "output_type": "display_data"
    }
   ],
   "source": [
    "display(b)"
   ]
  },
  {
   "cell_type": "code",
   "execution_count": 20,
   "metadata": {},
   "outputs": [],
   "source": [
    "# now lets link the float slider and float text \n",
    "my_link = widgets.jslink((a,'value'),(b,'value'))                    # java script link "
   ]
  },
  {
   "cell_type": "code",
   "execution_count": 21,
   "metadata": {},
   "outputs": [
    {
     "data": {
      "application/vnd.jupyter.widget-view+json": {
       "model_id": "aed70ff8c3434f958e027f6a7acf7edc",
       "version_major": 2,
       "version_minor": 0
      },
      "text/plain": [
       "FloatText(value=0.0)"
      ]
     },
     "metadata": {},
     "output_type": "display_data"
    },
    {
     "data": {
      "application/vnd.jupyter.widget-view+json": {
       "model_id": "593e43d1075c4defb5b03b69d925eded",
       "version_major": 2,
       "version_minor": 0
      },
      "text/plain": [
       "FloatSlider(value=0.0)"
      ]
     },
     "metadata": {},
     "output_type": "display_data"
    }
   ],
   "source": [
    "display(a,b) # if we change slider that will effect text \n",
    "# wiseversa "
   ]
  },
  {
   "cell_type": "code",
   "execution_count": 22,
   "metadata": {},
   "outputs": [],
   "source": [
    "# now lets fix the max value  \n",
    "my_link = widgets.jslink((a,'value'),(b,'max'))"
   ]
  },
  {
   "cell_type": "code",
   "execution_count": 23,
   "metadata": {},
   "outputs": [
    {
     "data": {
      "application/vnd.jupyter.widget-view+json": {
       "model_id": "aed70ff8c3434f958e027f6a7acf7edc",
       "version_major": 2,
       "version_minor": 0
      },
      "text/plain": [
       "FloatText(value=0.0)"
      ]
     },
     "metadata": {},
     "output_type": "display_data"
    },
    {
     "data": {
      "application/vnd.jupyter.widget-view+json": {
       "model_id": "593e43d1075c4defb5b03b69d925eded",
       "version_major": 2,
       "version_minor": 0
      },
      "text/plain": [
       "FloatSlider(value=0.0)"
      ]
     },
     "metadata": {},
     "output_type": "display_data"
    }
   ],
   "source": [
    "display(a,b) # we can change the max value possible "
   ]
  },
  {
   "cell_type": "code",
   "execution_count": 24,
   "metadata": {},
   "outputs": [],
   "source": [
    "# we cab also unlink using \n",
    "my_link.unlink()"
   ]
  },
  {
   "cell_type": "code",
   "execution_count": 25,
   "metadata": {},
   "outputs": [
    {
     "data": {
      "text/plain": [
       "['_dom_classes',\n",
       " '_model_module',\n",
       " '_model_module_version',\n",
       " '_model_name',\n",
       " '_view_count',\n",
       " '_view_module',\n",
       " '_view_module_version',\n",
       " '_view_name',\n",
       " 'behavior',\n",
       " 'continuous_update',\n",
       " 'description',\n",
       " 'description_allow_html',\n",
       " 'disabled',\n",
       " 'layout',\n",
       " 'max',\n",
       " 'min',\n",
       " 'orientation',\n",
       " 'readout',\n",
       " 'readout_format',\n",
       " 'step',\n",
       " 'style',\n",
       " 'tabbable',\n",
       " 'tooltip',\n",
       " 'value']"
      ]
     },
     "execution_count": 25,
     "metadata": {},
     "output_type": "execute_result"
    }
   ],
   "source": [
    "# to see all possible properties \n",
    "w.keys"
   ]
  },
  {
   "cell_type": "code",
   "execution_count": 26,
   "metadata": {},
   "outputs": [
    {
     "name": "stdout",
     "output_type": "stream",
     "text": [
      "('@jupyter-widgets/base', '2.0.0', 'LayoutModel', '@jupyter-widgets/base', '2.0.0', 'LayoutView')\n",
      "('@jupyter-widgets/controls', '2.0.0', 'AccordionModel', '@jupyter-widgets/controls', '2.0.0', 'AccordionView')\n",
      "('@jupyter-widgets/controls', '2.0.0', 'AudioModel', '@jupyter-widgets/controls', '2.0.0', 'AudioView')\n",
      "('@jupyter-widgets/controls', '2.0.0', 'BoundedFloatTextModel', '@jupyter-widgets/controls', '2.0.0', 'FloatTextView')\n",
      "('@jupyter-widgets/controls', '2.0.0', 'BoundedIntTextModel', '@jupyter-widgets/controls', '2.0.0', 'IntTextView')\n",
      "('@jupyter-widgets/controls', '2.0.0', 'BoxModel', '@jupyter-widgets/controls', '2.0.0', 'BoxView')\n",
      "('@jupyter-widgets/controls', '2.0.0', 'ButtonModel', '@jupyter-widgets/controls', '2.0.0', 'ButtonView')\n",
      "('@jupyter-widgets/controls', '2.0.0', 'ButtonStyleModel', '@jupyter-widgets/base', '2.0.0', 'StyleView')\n",
      "('@jupyter-widgets/controls', '2.0.0', 'CheckboxModel', '@jupyter-widgets/controls', '2.0.0', 'CheckboxView')\n",
      "('@jupyter-widgets/controls', '2.0.0', 'CheckboxStyleModel', '@jupyter-widgets/base', '2.0.0', 'StyleView')\n",
      "('@jupyter-widgets/controls', '2.0.0', 'ColorPickerModel', '@jupyter-widgets/controls', '2.0.0', 'ColorPickerView')\n",
      "('@jupyter-widgets/controls', '2.0.0', 'ColorsInputModel', '@jupyter-widgets/controls', '2.0.0', 'ColorsInputView')\n",
      "('@jupyter-widgets/controls', '2.0.0', 'ComboboxModel', '@jupyter-widgets/controls', '2.0.0', 'ComboboxView')\n",
      "('@jupyter-widgets/controls', '2.0.0', 'ControllerAxisModel', '@jupyter-widgets/controls', '2.0.0', 'ControllerAxisView')\n",
      "('@jupyter-widgets/controls', '2.0.0', 'ControllerButtonModel', '@jupyter-widgets/controls', '2.0.0', 'ControllerButtonView')\n",
      "('@jupyter-widgets/controls', '2.0.0', 'ControllerModel', '@jupyter-widgets/controls', '2.0.0', 'ControllerView')\n",
      "('@jupyter-widgets/controls', '2.0.0', 'DOMWidgetModel', '@jupyter-widgets/controls', '2.0.0', None)\n",
      "('@jupyter-widgets/controls', '2.0.0', 'DatePickerModel', '@jupyter-widgets/controls', '2.0.0', 'DatePickerView')\n",
      "('@jupyter-widgets/controls', '2.0.0', 'DatetimeModel', '@jupyter-widgets/controls', '2.0.0', 'DatetimeView')\n",
      "('@jupyter-widgets/controls', '2.0.0', 'DescriptionStyleModel', '@jupyter-widgets/base', '2.0.0', 'StyleView')\n",
      "('@jupyter-widgets/controls', '2.0.0', 'DirectionalLinkModel', '@jupyter-widgets/controls', '2.0.0', None)\n",
      "('@jupyter-widgets/controls', '2.0.0', 'DropdownModel', '@jupyter-widgets/controls', '2.0.0', 'DropdownView')\n",
      "('@jupyter-widgets/controls', '2.0.0', 'FileUploadModel', '@jupyter-widgets/controls', '2.0.0', 'FileUploadView')\n",
      "('@jupyter-widgets/controls', '2.0.0', 'FloatLogSliderModel', '@jupyter-widgets/controls', '2.0.0', 'FloatLogSliderView')\n",
      "('@jupyter-widgets/controls', '2.0.0', 'FloatProgressModel', '@jupyter-widgets/controls', '2.0.0', 'ProgressView')\n",
      "('@jupyter-widgets/controls', '2.0.0', 'FloatRangeSliderModel', '@jupyter-widgets/controls', '2.0.0', 'FloatRangeSliderView')\n",
      "('@jupyter-widgets/controls', '2.0.0', 'FloatSliderModel', '@jupyter-widgets/controls', '2.0.0', 'FloatSliderView')\n",
      "('@jupyter-widgets/controls', '2.0.0', 'FloatTextModel', '@jupyter-widgets/controls', '2.0.0', 'FloatTextView')\n",
      "('@jupyter-widgets/controls', '2.0.0', 'FloatsInputModel', '@jupyter-widgets/controls', '2.0.0', 'FloatsInputView')\n",
      "('@jupyter-widgets/controls', '2.0.0', 'GridBoxModel', '@jupyter-widgets/controls', '2.0.0', 'GridBoxView')\n",
      "('@jupyter-widgets/controls', '2.0.0', 'HBoxModel', '@jupyter-widgets/controls', '2.0.0', 'HBoxView')\n",
      "('@jupyter-widgets/controls', '2.0.0', 'HTMLMathModel', '@jupyter-widgets/controls', '2.0.0', 'HTMLMathView')\n",
      "('@jupyter-widgets/controls', '2.0.0', 'HTMLMathStyleModel', '@jupyter-widgets/base', '2.0.0', 'StyleView')\n",
      "('@jupyter-widgets/controls', '2.0.0', 'HTMLModel', '@jupyter-widgets/controls', '2.0.0', 'HTMLView')\n",
      "('@jupyter-widgets/controls', '2.0.0', 'HTMLStyleModel', '@jupyter-widgets/base', '2.0.0', 'StyleView')\n",
      "('@jupyter-widgets/controls', '2.0.0', 'ImageModel', '@jupyter-widgets/controls', '2.0.0', 'ImageView')\n",
      "('@jupyter-widgets/controls', '2.0.0', 'IntProgressModel', '@jupyter-widgets/controls', '2.0.0', 'ProgressView')\n",
      "('@jupyter-widgets/controls', '2.0.0', 'IntRangeSliderModel', '@jupyter-widgets/controls', '2.0.0', 'IntRangeSliderView')\n",
      "('@jupyter-widgets/controls', '2.0.0', 'IntSliderModel', '@jupyter-widgets/controls', '2.0.0', 'IntSliderView')\n",
      "('@jupyter-widgets/controls', '2.0.0', 'IntTextModel', '@jupyter-widgets/controls', '2.0.0', 'IntTextView')\n",
      "('@jupyter-widgets/controls', '2.0.0', 'IntsInputModel', '@jupyter-widgets/controls', '2.0.0', 'IntsInputView')\n",
      "('@jupyter-widgets/controls', '2.0.0', 'LabelModel', '@jupyter-widgets/controls', '2.0.0', 'LabelView')\n",
      "('@jupyter-widgets/controls', '2.0.0', 'LabelStyleModel', '@jupyter-widgets/base', '2.0.0', 'StyleView')\n",
      "('@jupyter-widgets/controls', '2.0.0', 'LinkModel', '@jupyter-widgets/controls', '2.0.0', None)\n",
      "('@jupyter-widgets/controls', '2.0.0', 'NaiveDatetimeModel', '@jupyter-widgets/controls', '2.0.0', 'DatetimeView')\n",
      "('@jupyter-widgets/controls', '2.0.0', 'PasswordModel', '@jupyter-widgets/controls', '2.0.0', 'PasswordView')\n",
      "('@jupyter-widgets/controls', '2.0.0', 'PlayModel', '@jupyter-widgets/controls', '2.0.0', 'PlayView')\n",
      "('@jupyter-widgets/controls', '2.0.0', 'ProgressStyleModel', '@jupyter-widgets/base', '2.0.0', 'StyleView')\n",
      "('@jupyter-widgets/controls', '2.0.0', 'RadioButtonsModel', '@jupyter-widgets/controls', '2.0.0', 'RadioButtonsView')\n",
      "('@jupyter-widgets/controls', '2.0.0', 'SelectModel', '@jupyter-widgets/controls', '2.0.0', 'SelectView')\n",
      "('@jupyter-widgets/controls', '2.0.0', 'SelectMultipleModel', '@jupyter-widgets/controls', '2.0.0', 'SelectMultipleView')\n",
      "('@jupyter-widgets/controls', '2.0.0', 'SelectionRangeSliderModel', '@jupyter-widgets/controls', '2.0.0', 'SelectionRangeSliderView')\n",
      "('@jupyter-widgets/controls', '2.0.0', 'SelectionSliderModel', '@jupyter-widgets/controls', '2.0.0', 'SelectionSliderView')\n",
      "('@jupyter-widgets/controls', '2.0.0', 'SliderStyleModel', '@jupyter-widgets/base', '2.0.0', 'StyleView')\n",
      "('@jupyter-widgets/controls', '2.0.0', 'StackModel', '@jupyter-widgets/controls', '2.0.0', 'StackView')\n",
      "('@jupyter-widgets/controls', '2.0.0', 'TabModel', '@jupyter-widgets/controls', '2.0.0', 'TabView')\n",
      "('@jupyter-widgets/controls', '2.0.0', 'TagsInputModel', '@jupyter-widgets/controls', '2.0.0', 'TagsInputView')\n",
      "('@jupyter-widgets/controls', '2.0.0', 'TextModel', '@jupyter-widgets/controls', '2.0.0', 'TextView')\n",
      "('@jupyter-widgets/controls', '2.0.0', 'TextStyleModel', '@jupyter-widgets/base', '2.0.0', 'StyleView')\n",
      "('@jupyter-widgets/controls', '2.0.0', 'TextareaModel', '@jupyter-widgets/controls', '2.0.0', 'TextareaView')\n",
      "('@jupyter-widgets/controls', '2.0.0', 'TimeModel', '@jupyter-widgets/controls', '2.0.0', 'TimeView')\n",
      "('@jupyter-widgets/controls', '2.0.0', 'ToggleButtonModel', '@jupyter-widgets/controls', '2.0.0', 'ToggleButtonView')\n",
      "('@jupyter-widgets/controls', '2.0.0', 'ToggleButtonStyleModel', '@jupyter-widgets/base', '2.0.0', 'StyleView')\n",
      "('@jupyter-widgets/controls', '2.0.0', 'ToggleButtonsModel', '@jupyter-widgets/controls', '2.0.0', 'ToggleButtonsView')\n",
      "('@jupyter-widgets/controls', '2.0.0', 'ToggleButtonsStyleModel', '@jupyter-widgets/base', '2.0.0', 'StyleView')\n",
      "('@jupyter-widgets/controls', '2.0.0', 'VBoxModel', '@jupyter-widgets/controls', '2.0.0', 'VBoxView')\n",
      "('@jupyter-widgets/controls', '2.0.0', 'ValidModel', '@jupyter-widgets/controls', '2.0.0', 'ValidView')\n",
      "('@jupyter-widgets/controls', '2.0.0', 'VideoModel', '@jupyter-widgets/controls', '2.0.0', 'VideoView')\n",
      "('@jupyter-widgets/output', '1.0.0', 'OutputModel', '@jupyter-widgets/output', '1.0.0', 'OutputView')\n"
     ]
    },
    {
     "name": "stderr",
     "output_type": "stream",
     "text": [
      "C:\\Users\\HP\\AppData\\Local\\Temp\\ipykernel_11008\\2809327008.py:2: DeprecationWarning: Widget.widget_types is deprecated.\n",
      "  for item in widgets.Widget.widget_types.items():\n"
     ]
    }
   ],
   "source": [
    "# Show all available widgets!\n",
    "for item in widgets.Widget.widget_types.items():\n",
    "    print(item[0]) "
   ]
  },
  {
   "cell_type": "code",
   "execution_count": 27,
   "metadata": {},
   "outputs": [
    {
     "data": {
      "application/vnd.jupyter.widget-view+json": {
       "model_id": "4fdeeb5ea886410fa2bb06f8a7e96f7f",
       "version_major": 2,
       "version_minor": 0
      },
      "text/plain": [
       "IntSlider(value=0, description='Test:', max=10, step=2)"
      ]
     },
     "execution_count": 27,
     "metadata": {},
     "output_type": "execute_result"
    }
   ],
   "source": [
    "# lets add discription to int slider\n",
    "widgets.IntSlider(\n",
    "    min=0,\n",
    "    max=10,\n",
    "    step=2,\n",
    "    description='Test:'\n",
    ")"
   ]
  },
  {
   "cell_type": "code",
   "execution_count": 28,
   "metadata": {},
   "outputs": [
    {
     "data": {
      "application/vnd.jupyter.widget-view+json": {
       "model_id": "ba48d8b4d4f543d680309963908dd4b7",
       "version_major": 2,
       "version_minor": 0
      },
      "text/plain": [
       "IntSlider(value=0, description='Test:', max=15, orientation='vertical')"
      ]
     },
     "execution_count": 28,
     "metadata": {},
     "output_type": "execute_result"
    }
   ],
   "source": [
    "# we can also change orentation of slider \n",
    "widgets.IntSlider(\n",
    "    min=0,\n",
    "    max=15,\n",
    "    description='Test:',\n",
    "    orientation='vertical' #  by default its horizontal. you can write horizontal also in place of vertical.\n",
    ")"
   ]
  },
  {
   "cell_type": "code",
   "execution_count": 29,
   "metadata": {},
   "outputs": [
    {
     "data": {
      "application/vnd.jupyter.widget-view+json": {
       "model_id": "86d8930f78c145b29acda2fffeb506f3",
       "version_major": 2,
       "version_minor": 0
      },
      "text/plain": [
       "IntRangeSlider(value=(4, 8), description='Test:', max=10)"
      ]
     },
     "execution_count": 29,
     "metadata": {},
     "output_type": "execute_result"
    }
   ],
   "source": [
    "#int ranger\n",
    "widgets.IntRangeSlider(\n",
    "    value=[4, 8], # range is set ove here\n",
    "    min=0,\n",
    "    max=10,\n",
    "    step=1,\n",
    "    description='Test:')"
   ]
  },
  {
   "cell_type": "code",
   "execution_count": 30,
   "metadata": {},
   "outputs": [
    {
     "data": {
      "application/vnd.jupyter.widget-view+json": {
       "model_id": "8bebf18db4944a22820dae42ff69c62b",
       "version_major": 2,
       "version_minor": 0
      },
      "text/plain": [
       "FloatRangeSlider(value=(2.0, 10.0), description='Test:', max=10.0, step=1.0)"
      ]
     },
     "execution_count": 30,
     "metadata": {},
     "output_type": "execute_result"
    }
   ],
   "source": [
    "#float ranger\n",
    "widgets.FloatRangeSlider(\n",
    "     value=[2, 10], # range is set ove here\n",
    "    min=0,\n",
    "    max=10,\n",
    "    step=1,\n",
    "    description='Test:'\n",
    ")\n"
   ]
  },
  {
   "cell_type": "markdown",
   "metadata": {},
   "source": [
    "Int Progress "
   ]
  },
  {
   "cell_type": "code",
   "execution_count": 31,
   "metadata": {},
   "outputs": [
    {
     "data": {
      "application/vnd.jupyter.widget-view+json": {
       "model_id": "2f77cc5cb4ef4351a13cac1cabd3fd5a",
       "version_major": 2,
       "version_minor": 0
      },
      "text/plain": [
       "IntProgress(value=5, description='Loading:', max=10)"
      ]
     },
     "execution_count": 31,
     "metadata": {},
     "output_type": "execute_result"
    }
   ],
   "source": [
    "widgets.IntProgress(\n",
    "    value=5,\n",
    "    min=0,\n",
    "    max=10,\n",
    "    description='Loading:', # display in output\n",
    "    bar_style='', # 'success', 'info', 'warning', 'danger' or ''\n",
    ")"
   ]
  },
  {
   "cell_type": "markdown",
   "metadata": {},
   "source": [
    "## we get this colours from boot strap library\n",
    "success - Green </br>\n",
    "info - blue (default)</br>\n",
    "warning - orange</br>\n",
    "danger - RED</br>"
   ]
  },
  {
   "cell_type": "code",
   "execution_count": 32,
   "metadata": {},
   "outputs": [
    {
     "data": {
      "application/vnd.jupyter.widget-view+json": {
       "model_id": "81797a186b064ca19dd793d7c969dc39",
       "version_major": 2,
       "version_minor": 0
      },
      "text/plain": [
       "BoundedIntText(value=10, description='Text:', max=10)"
      ]
     },
     "execution_count": 32,
     "metadata": {},
     "output_type": "execute_result"
    }
   ],
   "source": [
    "widgets.BoundedIntText( # bounded text mean in value will be max,\n",
    "    value=14,   # as we limited to 10 it will not take beyond that value\n",
    "    min=0, \n",
    "    max=10,\n",
    "    step=1,\n",
    "    description='Text:',\n",
    "    disabled=False\n",
    ")"
   ]
  },
  {
   "cell_type": "code",
   "execution_count": 33,
   "metadata": {},
   "outputs": [
    {
     "data": {
      "application/vnd.jupyter.widget-view+json": {
       "model_id": "f5b0f5e66b914dd98db15424f3a39d61",
       "version_major": 2,
       "version_minor": 0
      },
      "text/plain": [
       "IntText(value=14, description='Any:')"
      ]
     },
     "execution_count": 33,
     "metadata": {},
     "output_type": "execute_result"
    }
   ],
   "source": [
    "widgets.IntText( # int text we can go above specified max value\n",
    "    value=14,  # as not bounded even we can exeed max value\n",
    "    min=0,\n",
    "    max=10,\n",
    "    description='Any:',\n",
    "    disabled=False\n",
    ")"
   ]
  },
  {
   "cell_type": "code",
   "execution_count": 34,
   "metadata": {},
   "outputs": [
    {
     "data": {
      "application/vnd.jupyter.widget-view+json": {
       "model_id": "b52c25962407414eb890e6223c9ddc66",
       "version_major": 2,
       "version_minor": 0
      },
      "text/plain": [
       "ToggleButton(value=False, button_style='success', description='Click me', icon='check', tooltip='Description')"
      ]
     },
     "execution_count": 34,
     "metadata": {},
     "output_type": "execute_result"
    }
   ],
   "source": [
    "#Toogle Button\n",
    "widgets.ToggleButton(\n",
    "    value=False,\n",
    "    description='Click me',\n",
    "    button_style='success', # 'success', 'info', 'warning', 'danger' or ''\n",
    "    tooltip='Description',\n",
    "    icon='check'\n",
    ")"
   ]
  },
  {
   "cell_type": "code",
   "execution_count": 35,
   "metadata": {},
   "outputs": [
    {
     "data": {
      "application/vnd.jupyter.widget-view+json": {
       "model_id": "5c8703e99a6441ce8610991008ed0c0a",
       "version_major": 2,
       "version_minor": 0
      },
      "text/plain": [
       "Checkbox(value=False, description='Check me')"
      ]
     },
     "execution_count": 35,
     "metadata": {},
     "output_type": "execute_result"
    }
   ],
   "source": [
    "# check box \n",
    "widgets.Checkbox(\n",
    "    value=False,\n",
    "    description='Check me',\n",
    "    disabled=False\n",
    ")"
   ]
  },
  {
   "cell_type": "code",
   "execution_count": 36,
   "metadata": {},
   "outputs": [
    {
     "data": {
      "application/vnd.jupyter.widget-view+json": {
       "model_id": "58a22ded138c40b2a4cad84a5bdab374",
       "version_major": 2,
       "version_minor": 0
      },
      "text/plain": [
       "Valid(value=True, description='Valid!')"
      ]
     },
     "execution_count": 36,
     "metadata": {},
     "output_type": "execute_result"
    }
   ],
   "source": [
    "#  valid \n",
    "widgets.Valid(\n",
    "    value=True, # if false we get cross \n",
    "    description='Valid!',\n",
    ")"
   ]
  },
  {
   "cell_type": "markdown",
   "metadata": {},
   "source": [
    "## Selection widgets\n",
    "There are many small tools, called widgets, that let you choose one option from a list. There are also two special widgets that let you pick more than one option. All these widgets come from the same family. To show the choices, you can give a list of pairs, where each pair has a name and a value, or just values, and the names will be made from these values. You can also use a dictionary to list choices. Here, what you see in the list are the dictionary's keys, and the values are what you get when you choose an option. But with a dictionary, the order of the choices can't be set; they will appear in any order."
   ]
  },
  {
   "cell_type": "code",
   "execution_count": 37,
   "metadata": {},
   "outputs": [
    {
     "data": {
      "application/vnd.jupyter.widget-view+json": {
       "model_id": "64392dd97c6d44f288174a6649da3ca0",
       "version_major": 2,
       "version_minor": 0
      },
      "text/plain": [
       "Dropdown(description='Roll Number:', options=('1', '2', '3'), value='1')"
      ]
     },
     "execution_count": 37,
     "metadata": {},
     "output_type": "execute_result"
    }
   ],
   "source": [
    "#dropdown  - List\n",
    "widgets.Dropdown(\n",
    "    options=['1', '2', '3'],\n",
    "    description='Roll Number:',\n",
    ")"
   ]
  },
  {
   "cell_type": "code",
   "execution_count": 38,
   "metadata": {},
   "outputs": [
    {
     "data": {
      "application/vnd.jupyter.widget-view+json": {
       "model_id": "e3f337d625184d619798dddafb2cafa8",
       "version_major": 2,
       "version_minor": 0
      },
      "text/plain": [
       "Dropdown(description='Number:', index=1, options={'One': 1, 'Two': 2, 'Three': 3}, value=2)"
      ]
     },
     "execution_count": 38,
     "metadata": {},
     "output_type": "execute_result"
    }
   ],
   "source": [
    "# dropdown  - dictionary \n",
    "widgets.Dropdown(\n",
    "    options={'One': 1, 'Two': 2, 'Three': 3},\n",
    "    value=2,\n",
    "    description='Number:',\n",
    ")"
   ]
  },
  {
   "cell_type": "code",
   "execution_count": 39,
   "metadata": {},
   "outputs": [
    {
     "data": {
      "application/vnd.jupyter.widget-view+json": {
       "model_id": "ee9b701712ab478aade1339b7b1ea0fd",
       "version_major": 2,
       "version_minor": 0
      },
      "text/plain": [
       "RadioButtons(description='Ipad Essencials:', options=('Screen', 'Pencile', 'Case'), value='Screen')"
      ]
     },
     "execution_count": 39,
     "metadata": {},
     "output_type": "execute_result"
    }
   ],
   "source": [
    "# RadioButtons\n",
    "widgets.RadioButtons(\n",
    "    options=['Screen', 'Pencile', 'Case'],\n",
    "    description='Ipad Essencials:',\n",
    "    disabled=False\n",
    ")"
   ]
  },
  {
   "cell_type": "code",
   "execution_count": 40,
   "metadata": {},
   "outputs": [
    {
     "data": {
      "application/vnd.jupyter.widget-view+json": {
       "model_id": "82ff62caddc140739d48d5c7bb07806e",
       "version_major": 2,
       "version_minor": 0
      },
      "text/plain": [
       "Select(description='Android Os:', options=('miui', 'oxygen', 'colour'), value='miui')"
      ]
     },
     "execution_count": 40,
     "metadata": {},
     "output_type": "execute_result"
    }
   ],
   "source": [
    "#Select\n",
    "widgets.Select(\n",
    "    options=['miui', 'oxygen', 'colour'],\n",
    "    description='Android Os:'\n",
    ")"
   ]
  },
  {
   "cell_type": "code",
   "execution_count": 41,
   "metadata": {},
   "outputs": [
    {
     "data": {
      "application/vnd.jupyter.widget-view+json": {
       "model_id": "917a50b9b1e04519b3d04e56ee517864",
       "version_major": 2,
       "version_minor": 0
      },
      "text/plain": [
       "SelectionSlider(continuous_update=False, description='Favorite cheese:', options=('Cheddar', 'Brie', 'Gouda', …"
      ]
     },
     "execution_count": 41,
     "metadata": {},
     "output_type": "execute_result"
    }
   ],
   "source": [
    "widgets.SelectionSlider(\n",
    "    options=['Cheddar', 'Brie', 'Gouda', 'Mozzarella'],\n",
    "    value='Cheddar',\n",
    "    description='Favorite cheese:',\n",
    "    disabled=False,\n",
    "    continuous_update=False,\n",
    "    orientation='horizontal',\n",
    "    readout=True\n",
    ")"
   ]
  },
  {
   "cell_type": "code",
   "execution_count": 42,
   "metadata": {},
   "outputs": [
    {
     "data": {
      "application/vnd.jupyter.widget-view+json": {
       "model_id": "d1673c77ef554db68b8123213f8c953d",
       "version_major": 2,
       "version_minor": 0
      },
      "text/plain": [
       "ToggleButtons(description='Dosa Type:', options=('Plain', 'Masala', 'Butter', 'Cheese'), tooltips=('A simple d…"
      ]
     },
     "execution_count": 42,
     "metadata": {},
     "output_type": "execute_result"
    }
   ],
   "source": [
    "# toogle buttons\n",
    "widgets.ToggleButtons(\n",
    "    options=['Plain', 'Masala', 'Butter', 'Cheese'],\n",
    "    description='Dosa Type:',\n",
    "    disabled=False, # disabled=True, the buttons would be non-interactive\n",
    "    button_style='', # 'success', 'info', 'warning', 'danger' or ''\n",
    "    tooltips=['A simple dosa without filling', 'Dosa stuffed with spiced potatoes', 'Dosa cooked with butter', 'Dosa topped with cheese'],\n",
    "    # icons=['check'] * 3\n",
    ")\n"
   ]
  },
  {
   "cell_type": "code",
   "execution_count": 43,
   "metadata": {},
   "outputs": [
    {
     "data": {
      "application/vnd.jupyter.widget-view+json": {
       "model_id": "fced63efb0fa46ceaa89505cc40c0c1b",
       "version_major": 2,
       "version_minor": 0
      },
      "text/plain": [
       "SelectMultiple(description='Phones', index=(1,), options=('iPhone', 'Android', 'Windows Phone'), value=('Andro…"
      ]
     },
     "execution_count": 43,
     "metadata": {},
     "output_type": "execute_result"
    }
   ],
   "source": [
    "# select multiple \n",
    "widgets.SelectMultiple(\n",
    "    options=['iPhone', 'Android', 'Windows Phone'],\n",
    "    value=['Android'],\n",
    "    # rows=10,\n",
    "    description='Phones',\n",
    "    disabled=False\n",
    ")# to select multiple yse ctrl or shift + click"
   ]
  },
  {
   "cell_type": "markdown",
   "metadata": {},
   "source": [
    "# String Widget \n",
    "The Text and Textarea widgets accept input. The HTML and HTMLMath widgets display a string as HTML (HTMLMath also renders math). The Label widget can be used to construct a custom control label."
   ]
  },
  {
   "cell_type": "code",
   "execution_count": 44,
   "metadata": {},
   "outputs": [
    {
     "data": {
      "application/vnd.jupyter.widget-view+json": {
       "model_id": "bf8f05517da640558ab4924ce1ca6a60",
       "version_major": 2,
       "version_minor": 0
      },
      "text/plain": [
       "Text(value='Hello Akhil', description='String:', placeholder='Type something')"
      ]
     },
     "execution_count": 44,
     "metadata": {},
     "output_type": "execute_result"
    }
   ],
   "source": [
    "# String widgets\n",
    "widgets.Text(\n",
    "    value='Hello Akhil',\n",
    "    placeholder='Type something', # placeholder attribute is used to provide a hint \n",
    "    description='String:',\n",
    "    disabled=False\n",
    ")"
   ]
  },
  {
   "cell_type": "code",
   "execution_count": 45,
   "metadata": {},
   "outputs": [
    {
     "data": {
      "application/vnd.jupyter.widget-view+json": {
       "model_id": "94534075b10c4943b278a015d2cb22c0",
       "version_major": 2,
       "version_minor": 0
      },
      "text/plain": [
       "Textarea(value='Hello Akhil', description='String:', placeholder='Type something')"
      ]
     },
     "execution_count": 45,
     "metadata": {},
     "output_type": "execute_result"
    }
   ],
   "source": [
    "# TextArea\n",
    "widgets.Textarea(\n",
    "    value='Hello Akhil',\n",
    "    placeholder='Type something',\n",
    "    description='String:',\n",
    "    disabled=False\n",
    ")  # we can also expand the text area by pressing right down corner."
   ]
  },
  {
   "cell_type": "code",
   "execution_count": 46,
   "metadata": {},
   "outputs": [
    {
     "data": {
      "application/vnd.jupyter.widget-view+json": {
       "model_id": "dab51c7083c04065936efbb681fca9cd",
       "version_major": 2,
       "version_minor": 0
      },
      "text/plain": [
       "HBox(children=(Label(value='Rice Cost:'), FloatSlider(value=0.0)))"
      ]
     },
     "execution_count": 46,
     "metadata": {},
     "output_type": "execute_result"
    }
   ],
   "source": [
    "# Label\n",
    "widgets.HBox([widgets.Label(value=\"Rice Cost:\"), widgets.FloatSlider()])\n",
    "# if you need to build a custom description next to a control using similar styling to the built-in control descriptions."
   ]
  },
  {
   "cell_type": "code",
   "execution_count": 47,
   "metadata": {},
   "outputs": [
    {
     "data": {
      "application/vnd.jupyter.widget-view+json": {
       "model_id": "7dc6a50d46684e7c84081bd3ffd8c062",
       "version_major": 2,
       "version_minor": 0
      },
      "text/plain": [
       "HTML(value='Hello <b>World</b>', description='Some HTML', placeholder='Place Some HTML')"
      ]
     },
     "execution_count": 47,
     "metadata": {},
     "output_type": "execute_result"
    }
   ],
   "source": [
    "# hello world using html \n",
    "widgets.HTML(\n",
    "    value=\"Hello <b>World</b>\",\n",
    "    placeholder='Place Some HTML',\n",
    "    description='Some HTML',\n",
    ")"
   ]
  },
  {
   "cell_type": "code",
   "execution_count": 48,
   "metadata": {},
   "outputs": [
    {
     "data": {
      "application/vnd.jupyter.widget-view+json": {
       "model_id": "2797c39c53224a059cac8c2a7b14d426",
       "version_major": 2,
       "version_minor": 0
      },
      "text/plain": [
       "HTMLMath(value='Some math and <i>HTML</i>: \\\\(x^2\\\\) and $$\\\\frac{x+1}{x-1}$$', description='Some HTML', place…"
      ]
     },
     "execution_count": 48,
     "metadata": {},
     "output_type": "execute_result"
    }
   ],
   "source": [
    "# html math \n",
    "widgets.HTMLMath(\n",
    "    value=r\"Some math and <i>HTML</i>: \\(x^2\\) and $$\\frac{x+1}{x-1}$$\",\n",
    "    placeholder='Some HTML',\n",
    "    description='Some HTML',\n",
    ")"
   ]
  },
  {
   "cell_type": "code",
   "execution_count": 49,
   "metadata": {},
   "outputs": [
    {
     "data": {
      "application/vnd.jupyter.widget-view+json": {
       "model_id": "b96f85f716924dc085b53dfae8896f5a",
       "version_major": 2,
       "version_minor": 0
      },
      "text/plain": [
       "Button(description='Click me', icon='check', style=ButtonStyle(), tooltip='Click me')"
      ]
     },
     "execution_count": 49,
     "metadata": {},
     "output_type": "execute_result"
    }
   ],
   "source": [
    "# button \n",
    "widgets.Button(\n",
    "    description='Click me',\n",
    "    disabled=False,\n",
    "    button_style='', # 'success', 'info', 'warning', 'danger' or ''\n",
    "    tooltip='Click me',\n",
    "    icon='check'\n",
    ")"
   ]
  },
  {
   "cell_type": "code",
   "execution_count": null,
   "metadata": {},
   "outputs": [],
   "source": []
  }
 ],
 "metadata": {
  "kernelspec": {
   "display_name": "Python 3",
   "language": "python",
   "name": "python3"
  },
  "language_info": {
   "codemirror_mode": {
    "name": "ipython",
    "version": 3
   },
   "file_extension": ".py",
   "mimetype": "text/x-python",
   "name": "python",
   "nbconvert_exporter": "python",
   "pygments_lexer": "ipython3",
   "version": "3.12.2"
  }
 },
 "nbformat": 4,
 "nbformat_minor": 2
}
